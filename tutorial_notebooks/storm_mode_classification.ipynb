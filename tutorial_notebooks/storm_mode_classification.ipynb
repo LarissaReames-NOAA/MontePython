{
 "cells": [
  {
   "cell_type": "markdown",
   "id": "39927fd7",
   "metadata": {},
   "source": [
    "# Storm Identification and Mode Classification "
   ]
  },
  {
   "cell_type": "code",
   "execution_count": 1,
   "id": "4c0f3415",
   "metadata": {},
   "outputs": [],
   "source": [
    "import sys, os \n",
    "current_dir = os.getcwd()\n",
    "path = os.path.dirname(current_dir)\n",
    "sys.path.append(path)"
   ]
  },
  {
   "cell_type": "code",
   "execution_count": 2,
   "id": "c19ca10c",
   "metadata": {},
   "outputs": [],
   "source": [
    "import monte_python\n",
    "\n",
    "import pickle\n",
    "import numpy as np\n",
    "import matplotlib.pyplot as plt\n",
    "from scipy.stats import multivariate_normal\n",
    "from matplotlib.colors import ListedColormap\n",
    "cmap = ListedColormap([\"white\", \"red\", \"blue\", \"green\", \"purple\", 'gray'])"
   ]
  },
  {
   "cell_type": "code",
   "execution_count": 3,
   "id": "95565c2f",
   "metadata": {},
   "outputs": [],
   "source": [
    "mode_converter = {\n",
    "        \"NONROT\": \"ORD\",\n",
    "        \"ROTATE\": \"SUP\",\n",
    "        \"QLCS\": \"QLCS\",\n",
    "        \"SUP_CLUST\": \"SUP_CLUS\",\n",
    "        \"QLCS_NON\": \"QLCS_ORD\",\n",
    "        \"QLCS_ROT\": \"QLCS_MESO\",\n",
    "        \"CLUSTER\": \"CLUS\",\n",
    "        \"AMORPHOUS\": \"OTHER\",\n",
    "        \"CLUS_NON\": \"ORD\",\n",
    "        \"CLUS_ROT\": \"SUP\",\n",
    "        \"CLUS_CLU\": \"CLUS_CLUUUUUUUUU\",\n",
    "        \"CELL_ROT\": \"CELL_ROTTTTTTTTTT\",\n",
    "        \"CELL_NON\": \"CELL_ORDDDDDDDDDD\",\n",
    "    }\n",
    "\n",
    "retain_storm_types = [\n",
    "    \"ROTATE\",\n",
    "    \"NONROT\",\n",
    "    \"SEGMENT\",\n",
    "    \"QLCS\",\n",
    "    \"CLUSTER\",\n",
    "    \"LIN_CLUS\",\n",
    "    \"AMORPHOUS\",\n",
    "    \"BOW_QLCS\",\n",
    "    \"SUP_CLUST\",\n",
    "]\n",
    "\n",
    "storm_type_digitize = {key: n for n, key in enumerate(retain_storm_types)}"
   ]
  },
  {
   "cell_type": "code",
   "execution_count": 4,
   "id": "1b5b3c0a",
   "metadata": {},
   "outputs": [],
   "source": [
    "with open('/Users/monte.flora/Desktop/storm_mode/STORM_OBJECTS_newse1.pkl', 'rb') as f:\n",
    "    data = pickle.load(f)"
   ]
  },
  {
   "cell_type": "code",
   "execution_count": 5,
   "id": "ff2495ec",
   "metadata": {},
   "outputs": [],
   "source": [
    "dbz_vals = data['values'][0]\n",
    "rot_vals = data['rot_values'][0]"
   ]
  },
  {
   "cell_type": "code",
   "execution_count": 6,
   "id": "a30f181f",
   "metadata": {},
   "outputs": [
    {
     "name": "stdout",
     "output_type": "stream",
     "text": [
      "qc_params [('min_area', 15), ('merge_thresh', 3), ('max_thresh', (44.93, 100))]\n",
      "min_area\n",
      "merge_thresh\n",
      "max_thresh\n",
      "qc_params [('merge_thresh', 1), ('min_area', 5)]\n",
      "merge_thresh\n",
      "min_area\n",
      "self.grid_spacing 3000\n",
      "area: 2.16e+08, Leng: 31515.66, ecc:0.954\n",
      "self.grid_spacing 3000\n",
      "area: 3.33e+08, Leng: 35532.72, ecc:0.929\n",
      "self.grid_spacing 3000\n",
      "area: 2.97e+08, Leng: 25230.89, ecc:0.775\n",
      "self.grid_spacing 3000\n",
      "area: 9.00e+06, Leng: 0.00, ecc:0.000\n",
      "self.grid_spacing 3000\n",
      "area: 4.50e+08, Leng: 34775.16, ecc:0.839\n",
      "self.grid_spacing 3000\n",
      "area: 1.98e+08, Leng: 17679.28, ecc:0.583\n",
      "self.grid_spacing 3000\n",
      "area: 4.50e+07, Leng: 9295.16, ecc:0.816\n",
      "self.grid_spacing 3000\n",
      "area: 3.69e+08, Leng: 42077.51, ecc:0.939\n",
      "self.grid_spacing 3000\n",
      "area: 7.20e+07, Leng: 12361.21, ecc:0.812\n",
      "self.grid_spacing 3000\n",
      "area: 9.00e+07, Leng: 13145.34, ecc:0.791\n",
      "self.grid_spacing 3000\n",
      "area: 1.80e+07, Leng: 6000.00, ecc:1.000\n",
      "self.grid_spacing 3000\n",
      "area: 3.60e+08, Leng: 42710.56, ecc:0.949\n",
      "self.grid_spacing 3000\n",
      "area: 9.90e+07, Leng: 17875.72, ecc:0.899\n",
      "self.grid_spacing 3000\n",
      "area: 4.50e+07, Leng: 7589.47, ecc:0.000\n",
      "self.grid_spacing 3000\n",
      "area: 3.60e+07, Leng: 12599.79, ecc:0.961\n",
      "self.grid_spacing 3000\n",
      "area: 7.20e+07, Leng: 11916.64, ecc:0.747\n",
      "self.grid_spacing 3000\n",
      "area: 1.08e+08, Leng: 13392.65, ecc:0.645\n",
      "self.grid_spacing 3000\n",
      "area: 4.50e+07, Leng: 9295.16, ecc:0.816\n",
      "self.grid_spacing 3000\n",
      "area: 1.53e+08, Leng: 16615.57, ecc:0.711\n",
      "self.grid_spacing 3000\n",
      "area: 2.70e+07, Leng: 6928.20, ecc:0.816\n",
      "self.grid_spacing 3000\n",
      "area: 1.98e+08, Leng: 21004.93, ecc:0.823\n",
      "self.grid_spacing 3000\n",
      "area: 1.53e+08, Leng: 17085.92, ecc:0.759\n",
      "self.grid_spacing 3000\n",
      "area: 9.00e+06, Leng: 0.00, ecc:0.000\n",
      "self.grid_spacing 3000\n",
      "area: 6.30e+07, Leng: 13904.21, ecc:0.919\n",
      "self.grid_spacing 3000\n",
      "area: 9.00e+06, Leng: 0.00, ecc:0.000\n",
      "self.grid_spacing 3000\n",
      "area: 5.40e+07, Leng: 9380.83, ecc:0.674\n",
      "self.grid_spacing 3000\n",
      "area: 9.90e+07, Leng: 13832.50, ecc:0.746\n",
      "self.grid_spacing 3000\n",
      "area: 9.00e+06, Leng: 0.00, ecc:0.000\n",
      "self.grid_spacing 3000\n",
      "area: 1.71e+08, Leng: 25721.02, ecc:0.943\n",
      "self.grid_spacing 3000\n",
      "area: 1.98e+08, Leng: 29046.47, ecc:0.951\n",
      "self.grid_spacing 3000\n",
      "area: 9.00e+07, Leng: 12296.34, ecc:0.683\n",
      "self.grid_spacing 3000\n",
      "area: 2.70e+07, Leng: 6928.20, ecc:0.816\n",
      "self.grid_spacing 3000\n",
      "area: 1.17e+08, Leng: 15983.08, ecc:0.836\n",
      "self.grid_spacing 3000\n",
      "area: 3.51e+08, Leng: 37462.65, ecc:0.903\n",
      "self.grid_spacing 3000\n",
      "area: 1.26e+08, Leng: 20713.94, ecc:0.913\n",
      "self.grid_spacing 3000\n",
      "area: 1.26e+08, Leng: 20121.84, ecc:0.923\n",
      "self.grid_spacing 3000\n",
      "area: 9.00e+06, Leng: 0.00, ecc:0.000\n"
     ]
    }
   ],
   "source": [
    "dbz_qc_params = [\n",
    "            (\"min_area\", 15),\n",
    "            (\"merge_thresh\", 3),\n",
    "            (\"max_thresh\", (44.93, 100)),\n",
    "        ]\n",
    "\n",
    "dbz_qc_params2 = [\n",
    "            (\"min_area\", 10),\n",
    "            (\"merge_thresh\", 0),\n",
    "            (\"max_thresh\", (44.93, 100)),\n",
    "        ]\n",
    "\n",
    "uh_qc_params = [(\"merge_thresh\", 1),\n",
    "                (\"min_area\", 5),\n",
    "                ]\n",
    "\n",
    "clf = monte_python.StormModeClassifier(dbz_thresh=43.0, \n",
    "                                       rot_thresh=55,\n",
    "                                       dbz_qc_params = dbz_qc_params,\n",
    "                                       rot_qc_params = uh_qc_params,\n",
    "                                       dbz_qc_params_emb = dbz_qc_params2,\n",
    "                                       verbose=True\n",
    "                                      )\n",
    "\n",
    "results = clf.classify(dbz_vals = dbz_vals, rot_vals=rot_vals, label_embedded=False)\n",
    "storm_labels, object_props = results['dbz_labels'], results['dbz_props']\n",
    "#storm_modes, storm_embs = results['storm_modes'], results['storm_embs']"
   ]
  },
  {
   "cell_type": "code",
   "execution_count": 7,
   "id": "ef416d3f",
   "metadata": {},
   "outputs": [
    {
     "name": "stdout",
     "output_type": "stream",
     "text": [
      "1.35e+08\n"
     ]
    }
   ],
   "source": [
    "n = 15*(3000*3000)\n",
    "print(f'{n:.02e}')"
   ]
  },
  {
   "cell_type": "code",
   "execution_count": 8,
   "id": "e94c13fc",
   "metadata": {},
   "outputs": [
    {
     "ename": "NameError",
     "evalue": "name 'storm_modes' is not defined",
     "output_type": "error",
     "traceback": [
      "\u001b[0;31m---------------------------------------------------------------------------\u001b[0m",
      "\u001b[0;31mNameError\u001b[0m                                 Traceback (most recent call last)",
      "\u001b[0;32m<ipython-input-8-23f63a02f0fd>\u001b[0m in \u001b[0;36m<module>\u001b[0;34m()\u001b[0m\n\u001b[0;32m----> 1\u001b[0;31m \u001b[0mprint\u001b[0m\u001b[0;34m(\u001b[0m\u001b[0mstorm_modes\u001b[0m\u001b[0;34m)\u001b[0m\u001b[0;34m\u001b[0m\u001b[0;34m\u001b[0m\u001b[0m\n\u001b[0m",
      "\u001b[0;31mNameError\u001b[0m: name 'storm_modes' is not defined"
     ]
    }
   ],
   "source": [
    "print(storm_modes)"
   ]
  },
  {
   "cell_type": "code",
   "execution_count": null,
   "id": "c31c040e",
   "metadata": {},
   "outputs": [],
   "source": [
    "mode_converter = {\n",
    "        \"NONROT\": \"ORD\",\n",
    "        \"ROTATE\": \"SUP\",\n",
    "        \"QLCS\": \"QLCS\",\n",
    "        \"SUP_CLUST\": \"SUP_CLUS\",\n",
    "        \"QLCS_NON\": \"QLCS_ORD\",\n",
    "        \"QLCS_ROT\": \"QLCS_MESO\",\n",
    "        \"CLUSTER\": \"CLUS\",\n",
    "        \"AMORPHOUS\": \"OTHER\",\n",
    "        \"CLUS_NON\": \"ORD\",\n",
    "        \"CLUS_ROT\": \"SUP\",\n",
    "        \"CLUS_CLU\": \"CLUS_CLUUUUUUUUU\",\n",
    "        \"CELL_ROT\": \"CELL_ROTTTTTTTTTT\",\n",
    "        \"CELL_NON\": \"CELL_ORDDDDDDDDDD\",\n",
    "    }\n",
    "\n",
    "retain_storm_types = [\n",
    "    \"ROTATE\",\n",
    "    \"NONROT\",\n",
    "    \"SEGMENT\",\n",
    "    \"QLCS\",\n",
    "    \"CLUSTER\",\n",
    "    \"LIN_CLUS\",\n",
    "    \"AMORPHOUS\",\n",
    "    \"BOW_QLCS\",\n",
    "    \"SUP_CLUST\",\n",
    "]\n"
   ]
  },
  {
   "cell_type": "code",
   "execution_count": null,
   "id": "424a1e93",
   "metadata": {},
   "outputs": [],
   "source": [
    "converted_modes = [mode_converter[m] for m in storm_modes]\n",
    "print(converted_modes)"
   ]
  },
  {
   "cell_type": "code",
   "execution_count": null,
   "id": "15e2b060",
   "metadata": {},
   "outputs": [],
   "source": [
    "len(np.unique(storm_labels)), len(converted_modes)"
   ]
  },
  {
   "cell_type": "code",
   "execution_count": null,
   "id": "a1b4e61a",
   "metadata": {},
   "outputs": [],
   "source": [
    "#true_storm_types = data['storm_types'][0]\n",
    "#print('True Storm Modes: ', true_storm_types, len([int(m) if (m != ' ') else int(m) for m in true_storm_types]) )"
   ]
  },
  {
   "cell_type": "code",
   "execution_count": null,
   "id": "f6987ec7",
   "metadata": {},
   "outputs": [],
   "source": [
    "true_labels = data['labels'][0]\n",
    "print(len(np.unique(true_labels)))\n",
    "print(len(data['storm_types'][0]))"
   ]
  },
  {
   "cell_type": "code",
   "execution_count": null,
   "id": "a7360a70",
   "metadata": {},
   "outputs": [],
   "source": [
    "np.unique(storm_labels)"
   ]
  },
  {
   "cell_type": "code",
   "execution_count": null,
   "id": "b6c6d1c5",
   "metadata": {},
   "outputs": [],
   "source": [
    "def label_centroid(ax, object_props):\n",
    "    \"\"\"Place object label on object's centroid\"\"\"\n",
    "    for region in object_props:\n",
    "        x_cent,y_cent = region.centroid\n",
    "        x_cent=int(x_cent)\n",
    "        y_cent=int(y_cent)\n",
    "        xx, yy = x[x_cent,y_cent], y[x_cent,y_cent]\n",
    "        fontsize = 6.5 if region.label >= 10 else 8\n",
    "        ax.text(xx,yy,\n",
    "                    region.label,\n",
    "                    fontsize=fontsize,\n",
    "                    ha='center',\n",
    "                    va='center',\n",
    "                    color = 'k'\n",
    "                    )\n",
    "\n",
    "x,y = np.meshgrid(range(250), range(250))\n",
    "fig, axes = plt.subplots(dpi=300, ncols=2, figsize=(8,4))\n",
    "\n",
    "true_labels = data['labels'][0]\n",
    "\n",
    "for ax, z, cm in zip(axes, [dbz_vals, storm_labels], ['jet', cmap]):\n",
    "    ax.pcolormesh(x, y, z, cmap=cm)\n",
    "#label_centroid(ax, object_props) "
   ]
  },
  {
   "cell_type": "code",
   "execution_count": null,
   "id": "b47551c0",
   "metadata": {},
   "outputs": [],
   "source": []
  },
  {
   "cell_type": "code",
   "execution_count": null,
   "id": "93038809",
   "metadata": {},
   "outputs": [],
   "source": []
  }
 ],
 "metadata": {
  "kernelspec": {
   "display_name": "Python 3",
   "language": "python",
   "name": "python3"
  },
  "language_info": {
   "codemirror_mode": {
    "name": "ipython",
    "version": 3
   },
   "file_extension": ".py",
   "mimetype": "text/x-python",
   "name": "python",
   "nbconvert_exporter": "python",
   "pygments_lexer": "ipython3",
   "version": "3.6.13"
  }
 },
 "nbformat": 4,
 "nbformat_minor": 5
}
